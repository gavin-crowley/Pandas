{
 "cells": [
  {
   "cell_type": "code",
   "execution_count": 1,
   "metadata": {},
   "outputs": [],
   "source": [
    "import numpy as np\n",
    "import pandas as pd"
   ]
  },
  {
   "cell_type": "code",
   "execution_count": 2,
   "metadata": {},
   "outputs": [
    {
     "name": "stdout",
     "output_type": "stream",
     "text": [
      "\u001b[1;31mInit signature:\u001b[0m\n",
      "\u001b[0mpd\u001b[0m\u001b[1;33m.\u001b[0m\u001b[0mSeries\u001b[0m\u001b[1;33m(\u001b[0m\u001b[1;33m\n",
      "\u001b[0m    \u001b[0mdata\u001b[0m\u001b[1;33m=\u001b[0m\u001b[1;32mNone\u001b[0m\u001b[1;33m,\u001b[0m\u001b[1;33m\n",
      "\u001b[0m    \u001b[0mindex\u001b[0m\u001b[1;33m=\u001b[0m\u001b[1;32mNone\u001b[0m\u001b[1;33m,\u001b[0m\u001b[1;33m\n",
      "\u001b[0m    \u001b[0mdtype\u001b[0m\u001b[1;33m=\u001b[0m\u001b[1;32mNone\u001b[0m\u001b[1;33m,\u001b[0m\u001b[1;33m\n",
      "\u001b[0m    \u001b[0mname\u001b[0m\u001b[1;33m=\u001b[0m\u001b[1;32mNone\u001b[0m\u001b[1;33m,\u001b[0m\u001b[1;33m\n",
      "\u001b[0m    \u001b[0mcopy\u001b[0m\u001b[1;33m=\u001b[0m\u001b[1;32mFalse\u001b[0m\u001b[1;33m,\u001b[0m\u001b[1;33m\n",
      "\u001b[0m    \u001b[0mfastpath\u001b[0m\u001b[1;33m=\u001b[0m\u001b[1;32mFalse\u001b[0m\u001b[1;33m,\u001b[0m\u001b[1;33m\n",
      "\u001b[0m\u001b[1;33m)\u001b[0m\u001b[1;33m\u001b[0m\u001b[1;33m\u001b[0m\u001b[0m\n",
      "\u001b[1;31mDocstring:\u001b[0m     \n",
      "One-dimensional ndarray with axis labels (including time series).\n",
      "\n",
      "Labels need not be unique but must be a hashable type. The object\n",
      "supports both integer- and label-based indexing and provides a host of\n",
      "methods for performing operations involving the index. Statistical\n",
      "methods from ndarray have been overridden to automatically exclude\n",
      "missing data (currently represented as NaN).\n",
      "\n",
      "Operations between Series (+, -, /, *, **) align values based on their\n",
      "associated index values-- they need not be the same length. The result\n",
      "index will be the sorted union of the two indexes.\n",
      "\n",
      "Parameters\n",
      "----------\n",
      "data : array-like, Iterable, dict, or scalar value\n",
      "    Contains data stored in Series. If data is a dict, argument order is\n",
      "    maintained.\n",
      "index : array-like or Index (1d)\n",
      "    Values must be hashable and have the same length as `data`.\n",
      "    Non-unique index values are allowed. Will default to\n",
      "    RangeIndex (0, 1, 2, ..., n) if not provided. If data is dict-like\n",
      "    and index is None, then the keys in the data are used as the index. If the\n",
      "    index is not None, the resulting Series is reindexed with the index values.\n",
      "dtype : str, numpy.dtype, or ExtensionDtype, optional\n",
      "    Data type for the output Series. If not specified, this will be\n",
      "    inferred from `data`.\n",
      "    See the :ref:`user guide <basics.dtypes>` for more usages.\n",
      "name : str, optional\n",
      "    The name to give to the Series.\n",
      "copy : bool, default False\n",
      "    Copy input data.\n",
      "\n",
      "Examples\n",
      "--------\n",
      "Constructing Series from a dictionary with an Index specified\n",
      "\n",
      ">>> d = {'a': 1, 'b': 2, 'c': 3}\n",
      ">>> ser = pd.Series(data=d, index=['a', 'b', 'c'])\n",
      ">>> ser\n",
      "a   1\n",
      "b   2\n",
      "c   3\n",
      "dtype: int64\n",
      "\n",
      "The keys of the dictionary match with the Index values, hence the Index\n",
      "values have no effect.\n",
      "\n",
      ">>> d = {'a': 1, 'b': 2, 'c': 3}\n",
      ">>> ser = pd.Series(data=d, index=['x', 'y', 'z'])\n",
      ">>> ser\n",
      "x   NaN\n",
      "y   NaN\n",
      "z   NaN\n",
      "dtype: float64\n",
      "\n",
      "Note that the Index is first build with the keys from the dictionary.\n",
      "After this the Series is reindexed with the given Index values, hence we\n",
      "get all NaN as a result.\n",
      "\u001b[1;31mFile:\u001b[0m           c:\\users\\gavin\\anaconda3\\envs\\book_env\\lib\\site-packages\\pandas\\core\\series.py\n",
      "\u001b[1;31mType:\u001b[0m           type\n",
      "\u001b[1;31mSubclasses:\u001b[0m     SubclassedSeries\n"
     ]
    }
   ],
   "source": [
    "pd.Series?"
   ]
  },
  {
   "cell_type": "code",
   "execution_count": 10,
   "metadata": {},
   "outputs": [],
   "source": [
    "s = pd.Series(np.linspace(0, 10, num=5))\n"
   ]
  },
  {
   "cell_type": "code",
   "execution_count": 14,
   "metadata": {},
   "outputs": [
    {
     "data": {
      "text/plain": [
       "pandas.core.series.Series"
      ]
     },
     "execution_count": 14,
     "metadata": {},
     "output_type": "execute_result"
    }
   ],
   "source": [
    "type(s)"
   ]
  },
  {
   "cell_type": "code",
   "execution_count": 15,
   "metadata": {},
   "outputs": [
    {
     "data": {
      "text/plain": [
       "pandas.core.frame.DataFrame"
      ]
     },
     "execution_count": 15,
     "metadata": {},
     "output_type": "execute_result"
    }
   ],
   "source": [
    "s = pd.Series(np.linspace(0, 10, num=5)).to_frame()\n",
    "type(s)"
   ]
  },
  {
   "cell_type": "code",
   "execution_count": null,
   "metadata": {},
   "outputs": [],
   "source": []
  }
 ],
 "metadata": {
  "interpreter": {
   "hash": "8661b97ce44fe9b494190fd9a871b5b5390825dc64f0d6d778923fed20bf4675"
  },
  "kernelspec": {
   "display_name": "Python 3.8.8 64-bit ('book_env': conda)",
   "name": "python3"
  },
  "language_info": {
   "codemirror_mode": {
    "name": "ipython",
    "version": 3
   },
   "file_extension": ".py",
   "mimetype": "text/x-python",
   "name": "python",
   "nbconvert_exporter": "python",
   "pygments_lexer": "ipython3",
   "version": "3.8.8"
  },
  "orig_nbformat": 4
 },
 "nbformat": 4,
 "nbformat_minor": 2
}
